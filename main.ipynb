{
 "cells": [
  {
   "cell_type": "code",
   "execution_count": 1,
   "id": "56d86c78-1474-432d-9f52-7e1f87ec691d",
   "metadata": {},
   "outputs": [
    {
     "name": "stdout",
     "output_type": "stream",
     "text": [
      "4.47 μs ± 2.53 μs per loop (mean ± std. dev. of 7 runs, 100,000 loops each)\n"
     ]
    }
   ],
   "source": [
    "import numpy as np \n",
    "%timeit np.arange(1,9)**4 "
   ]
  },
  {
   "cell_type": "code",
   "execution_count": 2,
   "id": "2cc0b02e-4ab4-437e-92a9-2f3068d8c9ac",
   "metadata": {},
   "outputs": [
    {
     "name": "stdout",
     "output_type": "stream",
     "text": [
      "875 ns ± 58 ns per loop (mean ± std. dev. of 7 runs, 1,000,000 loops each)\n"
     ]
    }
   ],
   "source": [
    "%timeit [j**4 for j in range (1,9)] # list comprehension"
   ]
  },
  {
   "cell_type": "code",
   "execution_count": 3,
   "id": "b099e6ba-e55d-4cc1-ba12-0a3da36fd14c",
   "metadata": {},
   "outputs": [
    {
     "name": "stdout",
     "output_type": "stream",
     "text": [
      "[1 2 3 4 5]\n",
      "<class 'numpy.ndarray'>\n"
     ]
    }
   ],
   "source": [
    "li = [1,2,3,4,5]\n",
    "arr = np.array(li) # converting list to array\n",
    "print(arr) \n",
    "print(type(arr)) "
   ]
  },
  {
   "cell_type": "code",
   "execution_count": 4,
   "id": "ab72d8fd-ba4b-44c1-a990-b8f10b121e61",
   "metadata": {},
   "outputs": [
    {
     "name": "stdout",
     "output_type": "stream",
     "text": [
      "[[1 2 3 4]\n",
      " [2 3 4 5]]\n"
     ]
    }
   ],
   "source": [
    "arr2 = np.array([[1,2,3,4],[2,3,4,5]])\n",
    "print(arr2)"
   ]
  },
  {
   "cell_type": "code",
   "execution_count": 5,
   "id": "e630ea10-9f0a-4dc0-bbd0-3fae057a81ff",
   "metadata": {},
   "outputs": [
    {
     "name": "stdout",
     "output_type": "stream",
     "text": [
      "2\n"
     ]
    }
   ],
   "source": [
    "print(arr2.ndim)"
   ]
  },
  {
   "cell_type": "code",
   "execution_count": 6,
   "id": "abd2ec04-525c-4dfc-8e25-476bf158ebf5",
   "metadata": {},
   "outputs": [],
   "source": [
    "arr3 = np.array([[[1,2,3,4],[1,2,3,4],[1,2,3,4]]])"
   ]
  },
  {
   "cell_type": "code",
   "execution_count": 7,
   "id": "0a44180e-8345-4210-a0ec-64a46d167aea",
   "metadata": {},
   "outputs": [
    {
     "name": "stdout",
     "output_type": "stream",
     "text": [
      "[[[1 2 3 4]\n",
      "  [1 2 3 4]\n",
      "  [1 2 3 4]]]\n"
     ]
    }
   ],
   "source": [
    "print(arr3)"
   ]
  },
  {
   "cell_type": "code",
   "execution_count": 8,
   "id": "59f3e596-63f8-41c9-a243-a4ebd3a068ce",
   "metadata": {},
   "outputs": [
    {
     "name": "stdout",
     "output_type": "stream",
     "text": [
      "3\n"
     ]
    }
   ],
   "source": [
    "print(arr3.ndim)"
   ]
  },
  {
   "cell_type": "code",
   "execution_count": 9,
   "id": "45544c36-ae1e-468a-b750-aae9adc91294",
   "metadata": {},
   "outputs": [],
   "source": [
    "arrn = np.array([1,2,3,4],ndmin=5)"
   ]
  },
  {
   "cell_type": "code",
   "execution_count": 10,
   "id": "30dc89f4-3f07-4c9d-9947-e5c2083cd45f",
   "metadata": {},
   "outputs": [
    {
     "name": "stdout",
     "output_type": "stream",
     "text": [
      "[[[[[1 2 3 4]]]]]\n",
      "5\n"
     ]
    }
   ],
   "source": [
    "print(arrn)\n",
    "print(arrn.ndim)"
   ]
  },
  {
   "cell_type": "code",
   "execution_count": 11,
   "id": "2aab8fb8-e15f-4938-b57d-736635c87334",
   "metadata": {},
   "outputs": [
    {
     "name": "stdout",
     "output_type": "stream",
     "text": [
      "[[0. 0. 0.]\n",
      " [0. 0. 0.]\n",
      " [0. 0. 0.]]\n"
     ]
    }
   ],
   "source": [
    "a1_zeroes = np.zeros((3,3))\n",
    "print(a1_zeroes)"
   ]
  },
  {
   "cell_type": "code",
   "execution_count": 12,
   "id": "a344d9af",
   "metadata": {},
   "outputs": [
    {
     "name": "stdout",
     "output_type": "stream",
     "text": [
      "[[1. 1. 1.]\n",
      " [1. 1. 1.]\n",
      " [1. 1. 1.]]\n"
     ]
    }
   ],
   "source": [
    "a1_ones = np.ones((3,3))\n",
    "print(a1_ones)"
   ]
  },
  {
   "cell_type": "code",
   "execution_count": 13,
   "id": "0c6b10d7",
   "metadata": {},
   "outputs": [
    {
     "name": "stdout",
     "output_type": "stream",
     "text": [
      "[0 2 4 6 8]\n"
     ]
    }
   ],
   "source": [
    "a1_range = np.arange(0,10,2)\n",
    "print(a1_range)"
   ]
  },
  {
   "cell_type": "code",
   "execution_count": 14,
   "id": "c15be01a",
   "metadata": {},
   "outputs": [
    {
     "name": "stdout",
     "output_type": "stream",
     "text": [
      "Single element : 10\n",
      "Negative indexing : 50\n"
     ]
    }
   ],
   "source": [
    "arr1D = np.array([10,20,30,40,50])\n",
    "print(f\"Single element : {arr1D[0]}\")\n",
    "print(f\"Negative indexing : {arr1D[-1]}\")"
   ]
  },
  {
   "cell_type": "code",
   "execution_count": 15,
   "id": "0bfaf202",
   "metadata": {},
   "outputs": [
    {
     "name": "stdout",
     "output_type": "stream",
     "text": [
      "Multidimensional access : 4\n"
     ]
    }
   ],
   "source": [
    "arr2D = np.array([[2,3,4,5],[5,6,7,8],[3,5,7,9]])\n",
    "print(f\"Multidimensional access : {arr2D[0,2]}\")"
   ]
  },
  {
   "cell_type": "code",
   "execution_count": 98,
   "id": "d5227984",
   "metadata": {},
   "outputs": [
    {
     "name": "stdout",
     "output_type": "stream",
     "text": [
      "Range of Elements : [6 7]\n"
     ]
    }
   ],
   "source": [
    "arr = np.array([[1,2,3,4],[5,6,7,8]])\n",
    "print(f\"Range of Elements : {arr[1,1:3]}\")"
   ]
  },
  {
   "cell_type": "code",
   "execution_count": 99,
   "id": "8d0ce83d",
   "metadata": {},
   "outputs": [
    {
     "name": "stdout",
     "output_type": "stream",
     "text": [
      "Multidimensional Slicing : [4 8]\n"
     ]
    }
   ],
   "source": [
    "print(f\"Multidimensional Slicing : {arr[:,3]}\")"
   ]
  },
  {
   "cell_type": "code",
   "execution_count": 100,
   "id": "e1bfc7ad",
   "metadata": {},
   "outputs": [],
   "source": [
    "arr = np.array([10,20,30,40,50,60,70,80,90,100])\n"
   ]
  },
  {
   "cell_type": "code",
   "execution_count": 101,
   "id": "76def444",
   "metadata": {},
   "outputs": [],
   "source": [
    "indices = np.array([1,3,5])"
   ]
  },
  {
   "cell_type": "code",
   "execution_count": 102,
   "id": "25e430ed",
   "metadata": {},
   "outputs": [
    {
     "name": "stdout",
     "output_type": "stream",
     "text": [
      "Integer array indexing : [20 40 60]\n"
     ]
    }
   ],
   "source": [
    "print(f\"Integer array indexing : {arr[indices]}\")"
   ]
  },
  {
   "cell_type": "code",
   "execution_count": 103,
   "id": "421dd7e1",
   "metadata": {},
   "outputs": [
    {
     "name": "stdout",
     "output_type": "stream",
     "text": [
      "Element greater than 30 : [ 40  50  60  70  80  90 100]\n"
     ]
    }
   ],
   "source": [
    "cond = arr > 30\n",
    "print(f\"Element greater than 30 : {arr[cond]}\")\n"
   ]
  },
  {
   "cell_type": "code",
   "execution_count": 22,
   "id": "76e7e373",
   "metadata": {},
   "outputs": [
    {
     "name": "stdout",
     "output_type": "stream",
     "text": [
      "Addition : [ 3  6  9 12]\n",
      "Subtraction : [1 2 3 4]\n",
      "Multiplication : [ 2  8 18 32]\n",
      "Division : [2. 2. 2. 2.]\n"
     ]
    }
   ],
   "source": [
    "x = np.array([1,2,3,4])\n",
    "y = np.array([2,4,6,8])\n",
    "print(f\"Addition : {x + y}\")\n",
    "print(f\"Subtraction : {y - x}\")\n",
    "print(f\"Multiplication : {x * y}\")\n",
    "print(f\"Division : {y / x}\")\n"
   ]
  },
  {
   "cell_type": "code",
   "execution_count": 23,
   "id": "7346393b",
   "metadata": {},
   "outputs": [
    {
     "name": "stdout",
     "output_type": "stream",
     "text": [
      "[1 2 3 3 7 9]\n"
     ]
    }
   ],
   "source": [
    "arr = np.array([1,2,3,-3,-7,-9])\n",
    "result = np.absolute(arr)\n",
    "print(result)"
   ]
  },
  {
   "cell_type": "code",
   "execution_count": 24,
   "id": "cd4499b5",
   "metadata": {},
   "outputs": [
    {
     "name": "stdout",
     "output_type": "stream",
     "text": [
      "[5 7 9]\n"
     ]
    }
   ],
   "source": [
    "arr1 = np.array([1,2,3])\n",
    "arr2 = np.array([4,5,6])\n",
    "result = np.add(arr1, arr2)\n",
    "print(result)"
   ]
  },
  {
   "cell_type": "code",
   "execution_count": 25,
   "id": "14a66ab8",
   "metadata": {},
   "outputs": [
    {
     "name": "stdout",
     "output_type": "stream",
     "text": [
      "Sine values of array elements : [0.         0.5        0.70710678 0.8660254  1.        ]\n"
     ]
    }
   ],
   "source": [
    "a = np.array([0,np.pi/6,np.pi/4, np.pi/3, np.pi/2])\n",
    "print(f\"Sine values of array elements : {np.sin(a)}\")"
   ]
  },
  {
   "cell_type": "code",
   "execution_count": 26,
   "id": "ce9ce238",
   "metadata": {},
   "outputs": [
    {
     "name": "stdout",
     "output_type": "stream",
     "text": [
      "Exponent of array elements : [ 20.08553692  54.59815003 148.4131591 ]\n",
      "Square root of array elements : [1.73205081 2.         2.23606798]\n"
     ]
    }
   ],
   "source": [
    "b = np.array([3,4,5])\n",
    "print(f\"Exponent of array elements : {np.exp(b)}\")\n",
    "print(f\"Square root of array elements : {np.sqrt(b)}\")"
   ]
  },
  {
   "cell_type": "code",
   "execution_count": 27,
   "id": "95690b41",
   "metadata": {},
   "outputs": [
    {
     "name": "stdout",
     "output_type": "stream",
     "text": [
      "Array sorted by names: [(b'Alex', 2008, 2.67) (b'Bob', 2007, 2.64) (b'Jack', 2009, 2.96)\n",
      " (b'Tom', 2004, 2.56)]\n",
      "Array sorted by year: [(b'Tom', 2004, 2.56) (b'Bob', 2007, 2.64) (b'Alex', 2008, 2.67)\n",
      " (b'Jack', 2009, 2.96)]\n",
      "Array sorted by year & CGPA: [(b'Tom', 2004, 2.56) (b'Bob', 2007, 2.64) (b'Alex', 2008, 2.67)\n",
      " (b'Jack', 2009, 2.96)]\n"
     ]
    }
   ],
   "source": [
    "import numpy as np \n",
    "# set alias names for dtypes\n",
    "dtypes = [('name','S10'),('grad_year',int),('cgpa',float)]\n",
    "\n",
    "# values to be put in array\n",
    "values = [('Jack',2009,2.96),('Tom',2004,2.56),('Bob',2007,2.64),('Alex',2008,2.67)]\n",
    "\n",
    "# creating array\n",
    "arr = np.array(values, dtype=dtypes)\n",
    "print(\"Array sorted by names:\", np.sort(arr, order='name'))\n",
    "\n",
    "print(\"Array sorted by year:\",np.sort(arr,order='grad_year'))\n",
    "\n",
    "print(\"Array sorted by year & CGPA:\",np.sort(arr,order=['grad_year','cgpa']))"
   ]
  },
  {
   "cell_type": "code",
   "execution_count": 104,
   "id": "814a051f",
   "metadata": {},
   "outputs": [
    {
     "name": "stdout",
     "output_type": "stream",
     "text": [
      "Array with first two rows and alternative columns '0' & '3' is [[1 5]\n",
      " [5 9]]\n",
      "Elements at (1,0), (1,2), (0,4), (2,2), (2,1) is \n",
      " [[[ 5  6  7  8  9]\n",
      "  [ 5  6  7  8  9]\n",
      "  [ 1  2  3  4  5]\n",
      "  [12 13 14 15 16]]\n",
      "\n",
      " [[12 13 14 15 16]\n",
      "  [12 13 14 15 16]\n",
      "  [ 1  2  3  4  5]\n",
      "  [ 5  6  7  8  9]]]\n"
     ]
    }
   ],
   "source": [
    "arr = np.array([[1,2,3,4,5],[5,6,7,8,9],[12,13,14,15,16]])\n",
    "print(f\"Array with first two rows and alternative columns '0' & '3' is {arr[:2,::4]}\")\n",
    "\n",
    "indices = np.array([[1,1,0,2],[2,2,0,1]])\n",
    "print(f\"Elements at (1,0), (1,2), (0,4), (2,2), (2,1) is \\n {arr[indices]}\")"
   ]
  },
  {
   "cell_type": "code",
   "execution_count": 29,
   "id": "99e4c781",
   "metadata": {},
   "outputs": [
    {
     "name": "stdout",
     "output_type": "stream",
     "text": [
      "3\n"
     ]
    }
   ],
   "source": [
    "new_arr = arr[indices]\n",
    "print(new_arr.ndim)"
   ]
  },
  {
   "cell_type": "code",
   "execution_count": 30,
   "id": "db8b020d",
   "metadata": {},
   "outputs": [
    {
     "name": "stdout",
     "output_type": "stream",
     "text": [
      "Vertical stacking:\n",
      " [[1 2]\n",
      " [4 5]\n",
      " [3 5]\n",
      " [7 8]]\n",
      "Horizontal stacking:\n",
      " [[1 2 3 5]\n",
      " [4 5 7 8]]\n",
      "\n",
      "Column stacking:\n",
      " [[1 2 5]\n",
      " [4 5 6]]\n",
      "\n",
      "Concatenating to 2nd axis:\n",
      " [[1 2 3 5]\n",
      " [4 5 7 8]]\n"
     ]
    }
   ],
   "source": [
    "# stacking \n",
    "a = np.array([[1,2],[4,5]])\n",
    "b = np.array([[3,5],[7,8]])\n",
    "print(\"Vertical stacking:\\n\", np.vstack((a, b))) \n",
    "print(\"Horizontal stacking:\\n\", np.hstack((a, b)))\n",
    "c = [5,6]\n",
    "print(\"\\nColumn stacking:\\n\", np.column_stack((a, c))) \n",
    "\n",
    "print(\"\\nConcatenating to 2nd axis:\\n\", np.concatenate((a, b), 1)) \n",
    "\n"
   ]
  },
  {
   "cell_type": "code",
   "execution_count": 31,
   "id": "7c45c395",
   "metadata": {},
   "outputs": [
    {
     "name": "stdout",
     "output_type": "stream",
     "text": [
      "Splitting along horizontal axis into 2 parts:\n",
      " [array([[1, 2, 3],\n",
      "       [3, 5, 6]]), array([[4, 5, 3],\n",
      "       [7, 8, 1]])]\n",
      "Splitting along vertical axis into 2 parts:\n",
      " [array([[1, 2, 3, 4, 5, 3]]), array([[3, 5, 6, 7, 8, 1]])]\n"
     ]
    }
   ],
   "source": [
    "import numpy as np\n",
    "a = np.array([[1,2,3,4,5,3],[3,5,6,7,8,1]])\n",
    "\n",
    "# horizontal splitting \n",
    "print(\"Splitting along horizontal axis into 2 parts:\\n\", np.hsplit(a, 2)) \n",
    "\n",
    "# vertical splitting \n",
    "print(\"Splitting along vertical axis into 2 parts:\\n\", np.vsplit(a, 2)) \n",
    "\n"
   ]
  },
  {
   "cell_type": "code",
   "execution_count": 32,
   "id": "4df4d27d",
   "metadata": {},
   "outputs": [
    {
     "name": "stdout",
     "output_type": "stream",
     "text": [
      "[2. 4. 6.]\n",
      "[ 2.  6. 12.]\n"
     ]
    }
   ],
   "source": [
    "# broadcasting\n",
    "a = np.array([1.0, 2.0, 3.0])\n",
    "\n",
    "b = 2.0\n",
    "\n",
    "print(a * b)\n",
    "\n",
    "c = [2.0, 3.0, 4.0]\n",
    "\n",
    "print(a * c)"
   ]
  },
  {
   "cell_type": "code",
   "execution_count": 33,
   "id": "02a607cc",
   "metadata": {},
   "outputs": [
    {
     "name": "stdout",
     "output_type": "stream",
     "text": [
      "[[ 7  8  9 10  3]\n",
      " [ 8  9 10 11  4]\n",
      " [ 9 10 11 12  5]\n",
      " [10 11 12 13  6]\n",
      " [11 12 13 14  7]]\n"
     ]
    }
   ],
   "source": [
    "x  = np.array([1,2,3,4,5])\n",
    "y = np.array([6,7,8,9,2])\n",
    "\n",
    "print(x[:,np.newaxis]+y)"
   ]
  },
  {
   "cell_type": "code",
   "execution_count": 34,
   "id": "3f2e177a",
   "metadata": {},
   "outputs": [
    {
     "name": "stdout",
     "output_type": "stream",
     "text": [
      "Date is: 2025-02-24\n",
      "Year is: 2025\n",
      "\n",
      "Dates of February, 2025:\n",
      " ['2025-02-01' '2025-02-02' '2025-02-03' '2025-02-04' '2025-02-05'\n",
      " '2025-02-06' '2025-02-07' '2025-02-08' '2025-02-09' '2025-02-10'\n",
      " '2025-02-11' '2025-02-12' '2025-02-13' '2025-02-14' '2025-02-15'\n",
      " '2025-02-16' '2025-02-17' '2025-02-18' '2025-02-19' '2025-02-20'\n",
      " '2025-02-21' '2025-02-22' '2025-02-23' '2025-02-24' '2025-02-25'\n",
      " '2025-02-26' '2025-02-27' '2025-02-28']\n",
      "Today is February: True\n",
      "\n",
      "No. of days: 365 days\n",
      "No. of weeks: 52 weeks\n",
      "\n",
      "Dates in sorted order: ['2016-10-13' '2017-02-12' '2019-05-22']\n"
     ]
    }
   ],
   "source": [
    "import numpy as np \n",
    "\n",
    "# creating a date \n",
    "today = np.datetime64('2025-02-24') \n",
    "print(\"Date is:\", today) \n",
    "print(\"Year is:\", np.datetime64(today, 'Y')) \n",
    "\n",
    "# creating array of dates in a month \n",
    "dates = np.arange('2025-02', '2025-03', dtype='datetime64[D]') \n",
    "print(\"\\nDates of February, 2025:\\n\", dates) \n",
    "print(\"Today is February:\", today in dates) \n",
    "\n",
    "# arithmetic operation on dates \n",
    "dur = np.datetime64('2025-05-22') - np.datetime64('2024-05-22') \n",
    "print(\"\\nNo. of days:\", dur) \n",
    "print(\"No. of weeks:\", np.timedelta64(dur, 'W')) \n",
    "\n",
    "# sorting dates \n",
    "a = np.array(['2017-02-12', '2016-10-13', '2019-05-22'], dtype='datetime64') \n",
    "print(\"\\nDates in sorted order:\", np.sort(a))\n"
   ]
  },
  {
   "cell_type": "code",
   "execution_count": 35,
   "id": "51b2b343",
   "metadata": {},
   "outputs": [],
   "source": [
    "import numpy as np"
   ]
  },
  {
   "cell_type": "code",
   "execution_count": 36,
   "id": "3c2abcaf",
   "metadata": {},
   "outputs": [
    {
     "name": "stdout",
     "output_type": "stream",
     "text": [
      "[1 5]\n"
     ]
    }
   ],
   "source": [
    "arr = np.array([1,2,3,4,5])\n",
    "print(arr[[True, False,False, False,True]]) # boolean indexing "
   ]
  },
  {
   "cell_type": "code",
   "execution_count": 37,
   "id": "b195e0d1",
   "metadata": {},
   "outputs": [
    {
     "data": {
      "text/plain": [
       "array([False, False,  True,  True,  True])"
      ]
     },
     "execution_count": 37,
     "metadata": {},
     "output_type": "execute_result"
    }
   ],
   "source": [
    "arr >= 3 # comparison operator"
   ]
  },
  {
   "cell_type": "code",
   "execution_count": 38,
   "id": "7c2d29f8",
   "metadata": {},
   "outputs": [
    {
     "data": {
      "text/plain": [
       "3.0"
      ]
     },
     "execution_count": 38,
     "metadata": {},
     "output_type": "execute_result"
    }
   ],
   "source": [
    "arr.mean() # mean of array "
   ]
  },
  {
   "cell_type": "code",
   "execution_count": 39,
   "id": "648b151b",
   "metadata": {},
   "outputs": [
    {
     "data": {
      "text/plain": [
       "array([4, 5])"
      ]
     },
     "execution_count": 39,
     "metadata": {},
     "output_type": "execute_result"
    }
   ],
   "source": [
    "arr[arr > arr.mean()]"
   ]
  },
  {
   "cell_type": "code",
   "execution_count": 40,
   "id": "2e92d5f4",
   "metadata": {},
   "outputs": [
    {
     "data": {
      "text/plain": [
       "array([1, 2, 3])"
      ]
     },
     "execution_count": 40,
     "metadata": {},
     "output_type": "execute_result"
    }
   ],
   "source": [
    "arr[~(arr > arr.mean())] # negation"
   ]
  },
  {
   "cell_type": "code",
   "execution_count": 41,
   "id": "44d908d3",
   "metadata": {},
   "outputs": [
    {
     "data": {
      "text/plain": [
       "array([1])"
      ]
     },
     "execution_count": 41,
     "metadata": {},
     "output_type": "execute_result"
    }
   ],
   "source": [
    "arr[(arr==0)|(arr==1)] # bitwise operator"
   ]
  },
  {
   "cell_type": "code",
   "execution_count": 42,
   "id": "b6e4b2c6",
   "metadata": {},
   "outputs": [
    {
     "data": {
      "text/plain": [
       "array([2, 4])"
      ]
     },
     "execution_count": 42,
     "metadata": {},
     "output_type": "execute_result"
    }
   ],
   "source": [
    "arr[(arr>=2)&(arr%2==0)] # bitwise operator"
   ]
  },
  {
   "cell_type": "code",
   "execution_count": 43,
   "id": "c01c5f14",
   "metadata": {},
   "outputs": [
    {
     "name": "stdout",
     "output_type": "stream",
     "text": [
      "[ True  True  True  True False]\n"
     ]
    }
   ],
   "source": [
    "a = np.arange(5) # array creation\n",
    "print(a<=3) # comparison operator"
   ]
  },
  {
   "cell_type": "code",
   "execution_count": 44,
   "id": "ab47f990",
   "metadata": {},
   "outputs": [
    {
     "name": "stdout",
     "output_type": "stream",
     "text": [
      "[[87 97  0]\n",
      " [61 63 57]\n",
      " [13 92 39]]\n"
     ]
    }
   ],
   "source": [
    "A = np.random.randint(100,size=(3,3)) # random array creation\n",
    "print(A)"
   ]
  },
  {
   "cell_type": "code",
   "execution_count": 45,
   "id": "74327214",
   "metadata": {},
   "outputs": [
    {
     "data": {
      "text/plain": [
       "array([87,  0, 63, 13, 39])"
      ]
     },
     "execution_count": 45,
     "metadata": {},
     "output_type": "execute_result"
    }
   ],
   "source": [
    "A[np.array([[True, False, True],[False, True, False],[True, False, True]])] # boolean indexing"
   ]
  },
  {
   "cell_type": "code",
   "execution_count": 46,
   "id": "51c056e5",
   "metadata": {},
   "outputs": [
    {
     "data": {
      "text/plain": [
       "array([[ True,  True, False],\n",
       "       [ True,  True,  True],\n",
       "       [False,  True,  True]])"
      ]
     },
     "execution_count": 46,
     "metadata": {},
     "output_type": "execute_result"
    }
   ],
   "source": [
    "A > 30 # comparison operator"
   ]
  },
  {
   "cell_type": "code",
   "execution_count": 47,
   "id": "cde2b424",
   "metadata": {},
   "outputs": [
    {
     "name": "stdout",
     "output_type": "stream",
     "text": [
      "[87 97 61 63 57 92 39]\n"
     ]
    }
   ],
   "source": [
    "print(A[A>30]) # boolean indexing"
   ]
  },
  {
   "cell_type": "code",
   "execution_count": 48,
   "id": "7f5f3213",
   "metadata": {},
   "outputs": [],
   "source": [
    "import numpy as np"
   ]
  },
  {
   "cell_type": "code",
   "execution_count": 49,
   "id": "fe1b9988",
   "metadata": {},
   "outputs": [],
   "source": [
    "X = np.array([[1,2,3],[4,8,6],[7,8,9]])"
   ]
  },
  {
   "cell_type": "code",
   "execution_count": 50,
   "id": "5f5f00e9",
   "metadata": {},
   "outputs": [],
   "source": [
    "Y = np.array([[6,5],[4,3],[2,1]])"
   ]
  },
  {
   "cell_type": "code",
   "execution_count": 51,
   "id": "0e4fdada",
   "metadata": {},
   "outputs": [
    {
     "data": {
      "text/plain": [
       "array([[20, 14],\n",
       "       [68, 50],\n",
       "       [92, 68]])"
      ]
     },
     "execution_count": 51,
     "metadata": {},
     "output_type": "execute_result"
    }
   ],
   "source": [
    "X.dot(Y) # matrix multiplication"
   ]
  },
  {
   "cell_type": "code",
   "execution_count": 52,
   "id": "edc5e58a",
   "metadata": {},
   "outputs": [
    {
     "data": {
      "text/plain": [
       "array([[20, 14],\n",
       "       [68, 50],\n",
       "       [92, 68]])"
      ]
     },
     "execution_count": 52,
     "metadata": {},
     "output_type": "execute_result"
    }
   ],
   "source": [
    "X@Y # matrix multiplication"
   ]
  },
  {
   "cell_type": "code",
   "execution_count": 53,
   "id": "b25cb018",
   "metadata": {},
   "outputs": [
    {
     "data": {
      "text/plain": [
       "array([[6, 4, 2],\n",
       "       [5, 3, 1]])"
      ]
     },
     "execution_count": 53,
     "metadata": {},
     "output_type": "execute_result"
    }
   ],
   "source": [
    "Y.T # transpose of matrix"
   ]
  },
  {
   "cell_type": "code",
   "execution_count": 54,
   "id": "5e7e9ec9",
   "metadata": {},
   "outputs": [
    {
     "data": {
      "text/plain": [
       "array([[1, 2, 3],\n",
       "       [4, 8, 6],\n",
       "       [7, 8, 9]])"
      ]
     },
     "execution_count": 54,
     "metadata": {},
     "output_type": "execute_result"
    }
   ],
   "source": [
    "X"
   ]
  },
  {
   "cell_type": "code",
   "execution_count": 55,
   "id": "5ca1c04a",
   "metadata": {},
   "outputs": [
    {
     "data": {
      "text/plain": [
       "array([[36, 60, 60],\n",
       "       [24, 42, 42]])"
      ]
     },
     "execution_count": 55,
     "metadata": {},
     "output_type": "execute_result"
    }
   ],
   "source": [
    "Y.T @ X"
   ]
  },
  {
   "cell_type": "code",
   "execution_count": 56,
   "id": "e403c8ea",
   "metadata": {},
   "outputs": [
    {
     "data": {
      "text/plain": [
       "array([[-0.66666667, -0.16666667,  0.33333333],\n",
       "       [-0.16666667,  0.33333333, -0.16666667],\n",
       "       [ 0.66666667, -0.16666667,  0.        ]])"
      ]
     },
     "execution_count": 56,
     "metadata": {},
     "output_type": "execute_result"
    }
   ],
   "source": [
    "np.linalg.inv(X) # inverse of matrix"
   ]
  },
  {
   "cell_type": "code",
   "execution_count": 57,
   "id": "41dd4193",
   "metadata": {},
   "outputs": [
    {
     "data": {
      "text/plain": [
       "28"
      ]
     },
     "execution_count": 57,
     "metadata": {},
     "output_type": "execute_result"
    }
   ],
   "source": [
    "import sys\n",
    "sys.getsizeof(3) # size of integer"
   ]
  },
  {
   "cell_type": "code",
   "execution_count": 58,
   "id": "1de4642d",
   "metadata": {},
   "outputs": [
    {
     "data": {
      "text/plain": [
       "72"
      ]
     },
     "execution_count": 58,
     "metadata": {},
     "output_type": "execute_result"
    }
   ],
   "source": [
    "sys.getsizeof(10**100) # size of large integer"
   ]
  },
  {
   "cell_type": "code",
   "execution_count": 59,
   "id": "b895f6b9",
   "metadata": {},
   "outputs": [
    {
     "data": {
      "text/plain": [
       "8"
      ]
     },
     "execution_count": 59,
     "metadata": {},
     "output_type": "execute_result"
    }
   ],
   "source": [
    "np.dtype(int).itemsize # size of integer"
   ]
  },
  {
   "cell_type": "code",
   "execution_count": 60,
   "id": "ff9d0024",
   "metadata": {},
   "outputs": [
    {
     "data": {
      "text/plain": [
       "8"
      ]
     },
     "execution_count": 60,
     "metadata": {},
     "output_type": "execute_result"
    }
   ],
   "source": [
    "np.dtype(float).itemsize # size of float"
   ]
  },
  {
   "cell_type": "code",
   "execution_count": 61,
   "id": "fa1119dc",
   "metadata": {},
   "outputs": [
    {
     "data": {
      "text/plain": [
       "1"
      ]
     },
     "execution_count": 61,
     "metadata": {},
     "output_type": "execute_result"
    }
   ],
   "source": [
    "np.dtype(np.int8).itemsize # size of int8"
   ]
  },
  {
   "cell_type": "code",
   "execution_count": 62,
   "id": "1fa2b360",
   "metadata": {},
   "outputs": [
    {
     "data": {
      "text/plain": [
       "array([0.02712777, 0.64355773])"
      ]
     },
     "execution_count": 62,
     "metadata": {},
     "output_type": "execute_result"
    }
   ],
   "source": [
    "np.random.random(size=2) # random number generation"
   ]
  },
  {
   "cell_type": "code",
   "execution_count": 63,
   "id": "74ff8b71",
   "metadata": {},
   "outputs": [
    {
     "data": {
      "text/plain": [
       "array([-0.69422272, -0.77698278])"
      ]
     },
     "execution_count": 63,
     "metadata": {},
     "output_type": "execute_result"
    }
   ],
   "source": [
    "np.random.normal(size=2) # random number generation"
   ]
  },
  {
   "cell_type": "code",
   "execution_count": 64,
   "id": "6211e04d",
   "metadata": {},
   "outputs": [
    {
     "data": {
      "text/plain": [
       "array([[0.84137139, 0.3807441 , 0.20970865, 0.48217664],\n",
       "       [0.64698037, 0.57427896, 0.37719729, 0.61012773],\n",
       "       [0.60146646, 0.4616093 , 0.84648915, 0.96486592]])"
      ]
     },
     "execution_count": 64,
     "metadata": {},
     "output_type": "execute_result"
    }
   ],
   "source": [
    "np.random.rand(3,4) # random number generation"
   ]
  },
  {
   "cell_type": "code",
   "execution_count": 65,
   "id": "acf96901",
   "metadata": {},
   "outputs": [
    {
     "data": {
      "text/plain": [
       "array([0, 1, 2, 3, 4, 5, 6, 7, 8, 9])"
      ]
     },
     "execution_count": 65,
     "metadata": {},
     "output_type": "execute_result"
    }
   ],
   "source": [
    "np.arange(10) # array creation"
   ]
  },
  {
   "cell_type": "code",
   "execution_count": 66,
   "id": "938438c9",
   "metadata": {},
   "outputs": [
    {
     "data": {
      "text/plain": [
       "array([5, 6, 7, 8, 9])"
      ]
     },
     "execution_count": 66,
     "metadata": {},
     "output_type": "execute_result"
    }
   ],
   "source": [
    "np.arange(5,10) # array creation"
   ]
  },
  {
   "cell_type": "code",
   "execution_count": 67,
   "id": "148a4594",
   "metadata": {},
   "outputs": [
    {
     "data": {
      "text/plain": [
       "array([0, 2, 4, 6, 8])"
      ]
     },
     "execution_count": 67,
     "metadata": {},
     "output_type": "execute_result"
    }
   ],
   "source": [
    "np.arange(0,10,2) # even number array creation"
   ]
  },
  {
   "cell_type": "code",
   "execution_count": 68,
   "id": "93469c6f",
   "metadata": {},
   "outputs": [
    {
     "data": {
      "text/plain": [
       "array([[0, 1],\n",
       "       [2, 3],\n",
       "       [4, 5],\n",
       "       [6, 7],\n",
       "       [8, 9]])"
      ]
     },
     "execution_count": 68,
     "metadata": {},
     "output_type": "execute_result"
    }
   ],
   "source": [
    "np.arange(10).reshape(5,2)"
   ]
  },
  {
   "cell_type": "code",
   "execution_count": 69,
   "id": "c78272c1",
   "metadata": {},
   "outputs": [
    {
     "data": {
      "text/plain": [
       "array([[0, 1, 2, 3, 4],\n",
       "       [5, 6, 7, 8, 9]])"
      ]
     },
     "execution_count": 69,
     "metadata": {},
     "output_type": "execute_result"
    }
   ],
   "source": [
    "np.arange(10).reshape(2,5) # array reshaping"
   ]
  },
  {
   "cell_type": "code",
   "execution_count": 70,
   "id": "f341e522",
   "metadata": {},
   "outputs": [
    {
     "data": {
      "text/plain": [
       "array([0.  , 0.25, 0.5 , 0.75, 1.  ])"
      ]
     },
     "execution_count": 70,
     "metadata": {},
     "output_type": "execute_result"
    }
   ],
   "source": [
    "np.linspace(0,1,5)"
   ]
  },
  {
   "cell_type": "code",
   "execution_count": 71,
   "id": "895c1a9a",
   "metadata": {},
   "outputs": [
    {
     "data": {
      "text/plain": [
       "array([0.        , 0.05263158, 0.10526316, 0.15789474, 0.21052632,\n",
       "       0.26315789, 0.31578947, 0.36842105, 0.42105263, 0.47368421,\n",
       "       0.52631579, 0.57894737, 0.63157895, 0.68421053, 0.73684211,\n",
       "       0.78947368, 0.84210526, 0.89473684, 0.94736842, 1.        ])"
      ]
     },
     "execution_count": 71,
     "metadata": {},
     "output_type": "execute_result"
    }
   ],
   "source": [
    "np.linspace(0,1,20) # linear space creation"
   ]
  },
  {
   "cell_type": "code",
   "execution_count": 72,
   "id": "7cf9fb3a",
   "metadata": {},
   "outputs": [
    {
     "data": {
      "text/plain": [
       "array([0.  , 0.05, 0.1 , 0.15, 0.2 , 0.25, 0.3 , 0.35, 0.4 , 0.45, 0.5 ,\n",
       "       0.55, 0.6 , 0.65, 0.7 , 0.75, 0.8 , 0.85, 0.9 , 0.95])"
      ]
     },
     "execution_count": 72,
     "metadata": {},
     "output_type": "execute_result"
    }
   ],
   "source": [
    "np.linspace(0,1,20,False) # exclude last element"
   ]
  },
  {
   "cell_type": "code",
   "execution_count": 105,
   "id": "a6377be5",
   "metadata": {},
   "outputs": [
    {
     "data": {
      "text/plain": [
       "8"
      ]
     },
     "execution_count": 105,
     "metadata": {},
     "output_type": "execute_result"
    }
   ],
   "source": [
    "import numpy as np\n",
    "a = np.array([1,2,3,4])\n",
    "a.itemsize"
   ]
  },
  {
   "cell_type": "code",
   "execution_count": 107,
   "id": "d01416ce",
   "metadata": {},
   "outputs": [],
   "source": [
    "b = np.array([[1,2,3,4,5,6,7],[8,9,10,11,12,13,14]])"
   ]
  },
  {
   "cell_type": "code",
   "execution_count": 110,
   "id": "b7120932",
   "metadata": {},
   "outputs": [
    {
     "data": {
      "text/plain": [
       "array([11, 12, 13, 14])"
      ]
     },
     "execution_count": 110,
     "metadata": {},
     "output_type": "execute_result"
    }
   ],
   "source": [
    "b[1,3:]"
   ]
  },
  {
   "cell_type": "code",
   "execution_count": 111,
   "id": "d6d0e0b4",
   "metadata": {},
   "outputs": [
    {
     "data": {
      "text/plain": [
       "array([ 4, 11])"
      ]
     },
     "execution_count": 111,
     "metadata": {},
     "output_type": "execute_result"
    }
   ],
   "source": [
    "b[:,3]"
   ]
  },
  {
   "cell_type": "code",
   "execution_count": null,
   "id": "55a133e0",
   "metadata": {},
   "outputs": [
    {
     "data": {
      "text/plain": [
       "array([1, 3, 5])"
      ]
     },
     "execution_count": 115,
     "metadata": {},
     "output_type": "execute_result"
    }
   ],
   "source": [
    "b[0,0:-1:2] # access with step size '2' starting from index '0' excluding last element"
   ]
  },
  {
   "cell_type": "code",
   "execution_count": 117,
   "id": "43b00e13",
   "metadata": {},
   "outputs": [],
   "source": [
    "b[1,5] = 20"
   ]
  },
  {
   "cell_type": "code",
   "execution_count": 118,
   "id": "13f1c78d",
   "metadata": {},
   "outputs": [
    {
     "data": {
      "text/plain": [
       "array([[ 1,  2,  3,  4,  5,  6,  7],\n",
       "       [ 8,  9, 10, 11, 12, 20, 14]])"
      ]
     },
     "execution_count": 118,
     "metadata": {},
     "output_type": "execute_result"
    }
   ],
   "source": [
    "b"
   ]
  },
  {
   "cell_type": "code",
   "execution_count": 14,
   "id": "e824bf28",
   "metadata": {},
   "outputs": [],
   "source": [
    "import numpy as np"
   ]
  },
  {
   "cell_type": "code",
   "execution_count": 15,
   "id": "7b3d00c2",
   "metadata": {},
   "outputs": [
    {
     "name": "stdout",
     "output_type": "stream",
     "text": [
      "[[0. 0. 0. 0. 0. 0. 0.]\n",
      " [0. 0. 0. 0. 0. 0. 0.]\n",
      " [0. 0. 0. 0. 0. 0. 0.]\n",
      " [0. 0. 0. 0. 0. 0. 0.]\n",
      " [0. 0. 0. 0. 0. 0. 0.]\n",
      " [0. 0. 0. 0. 0. 0. 0.]\n",
      " [0. 0. 0. 0. 0. 0. 0.]]\n"
     ]
    }
   ],
   "source": [
    "output = np.zeros((7,7),dtype=float)\n",
    "print(output)"
   ]
  },
  {
   "cell_type": "code",
   "execution_count": 24,
   "id": "ddf44e65",
   "metadata": {},
   "outputs": [
    {
     "name": "stdout",
     "output_type": "stream",
     "text": [
      "[[1. 1. 1. 1. 1.]\n",
      " [1. 1. 1. 1. 1.]\n",
      " [1. 1. 5. 1. 1.]\n",
      " [1. 1. 1. 1. 1.]\n",
      " [1. 1. 1. 1. 1.]]\n"
     ]
    }
   ],
   "source": [
    "ones = np.ones((5,5),dtype=float)\n",
    "ones[2,2] = 5\n",
    "print(ones)"
   ]
  },
  {
   "cell_type": "code",
   "execution_count": 25,
   "id": "61389b7c",
   "metadata": {},
   "outputs": [
    {
     "name": "stdout",
     "output_type": "stream",
     "text": [
      "[[0. 0. 0. 0. 0. 0. 0.]\n",
      " [0. 1. 1. 1. 1. 1. 0.]\n",
      " [0. 1. 1. 1. 1. 1. 0.]\n",
      " [0. 1. 1. 5. 1. 1. 0.]\n",
      " [0. 1. 1. 1. 1. 1. 0.]\n",
      " [0. 1. 1. 1. 1. 1. 0.]\n",
      " [0. 0. 0. 0. 0. 0. 0.]]\n"
     ]
    }
   ],
   "source": [
    "output[1:-1,1:-1] = ones\n",
    "\n",
    "print(output)"
   ]
  },
  {
   "cell_type": "code",
   "execution_count": null,
   "id": "4bcb9a43",
   "metadata": {},
   "outputs": [
    {
     "name": "stdout",
     "output_type": "stream",
     "text": [
      "['Jack' 'Tom' 'Bob']\n",
      "['Jack' 'Tom' 'Bob' 'Alice']\n"
     ]
    }
   ],
   "source": [
    "names = np.array(['Jack','Tom','Bob','Alice'])\n",
    "entry_names = names[~np.char.startswith(names, 'A')] # names not starting with 'A'\n",
    "\n",
    "print(entry_names)\n",
    "\n",
    "print(names)"
   ]
  },
  {
   "cell_type": "code",
   "execution_count": 44,
   "id": "2e17c834",
   "metadata": {},
   "outputs": [
    {
     "name": "stdout",
     "output_type": "stream",
     "text": [
      "15\n"
     ]
    }
   ],
   "source": [
    "a = np.array(([1,2,3,4,5],[6,7,8,9,10]))\n",
    "b = np.max(a, axis=1).sum() # sum of max of each row\n",
    "\n",
    "print(b)"
   ]
  },
  {
   "cell_type": "code",
   "execution_count": 13,
   "id": "8e02ab2f",
   "metadata": {},
   "outputs": [
    {
     "name": "stdout",
     "output_type": "stream",
     "text": [
      "[[1 2 3]\n",
      " [4 5 6]]\n",
      "[[1 2]\n",
      " [3 4]\n",
      " [5 6]]\n"
     ]
    }
   ],
   "source": [
    "import numpy as np\n",
    "\n",
    "before = np.array([[1,2,3],[4,5,6]])\n",
    "print(before)\n",
    "\n",
    "after = before.reshape((3,2))\n",
    "\n",
    "print(after)"
   ]
  },
  {
   "cell_type": "code",
   "execution_count": 19,
   "id": "c07bf1e1",
   "metadata": {},
   "outputs": [
    {
     "name": "stdout",
     "output_type": "stream",
     "text": [
      "[ 29.  97.  32. 100.  45.  15.  88.   5.  75.  22.]\n"
     ]
    }
   ],
   "source": [
    "filed_data = np.genfromtxt('data.txt', delimiter=',')\n",
    "\n",
    "print(filed_data)"
   ]
  },
  {
   "cell_type": "code",
   "execution_count": 21,
   "id": "f57200b4",
   "metadata": {},
   "outputs": [
    {
     "data": {
      "text/plain": [
       "array([ 97., 100.,  88.,  75.])"
      ]
     },
     "execution_count": 21,
     "metadata": {},
     "output_type": "execute_result"
    }
   ],
   "source": [
    "filed_data[filed_data > 50] "
   ]
  },
  {
   "cell_type": "code",
   "execution_count": 76,
   "id": "3addb08a",
   "metadata": {},
   "outputs": [
    {
     "data": {
      "application/vnd.microsoft.datawrangler.viewer.v0+json": {
       "columns": [
        {
         "name": "index",
         "rawType": "int64",
         "type": "integer"
        },
        {
         "name": "age",
         "rawType": "int64",
         "type": "integer"
        },
        {
         "name": "workclass",
         "rawType": "object",
         "type": "string"
        },
        {
         "name": "fnlwgt",
         "rawType": "int64",
         "type": "integer"
        },
        {
         "name": "education",
         "rawType": "object",
         "type": "string"
        },
        {
         "name": "education-num",
         "rawType": "int64",
         "type": "integer"
        },
        {
         "name": "marital-status",
         "rawType": "object",
         "type": "string"
        },
        {
         "name": "occupation",
         "rawType": "object",
         "type": "string"
        },
        {
         "name": "relationship",
         "rawType": "object",
         "type": "string"
        },
        {
         "name": "race",
         "rawType": "object",
         "type": "string"
        },
        {
         "name": "sex",
         "rawType": "object",
         "type": "string"
        },
        {
         "name": "capital-gain",
         "rawType": "int64",
         "type": "integer"
        },
        {
         "name": "capital-loss",
         "rawType": "int64",
         "type": "integer"
        },
        {
         "name": "hours-per-week",
         "rawType": "int64",
         "type": "integer"
        },
        {
         "name": "native-country",
         "rawType": "object",
         "type": "string"
        },
        {
         "name": "salary",
         "rawType": "object",
         "type": "string"
        }
       ],
       "ref": "8b12c21e-19cb-41a2-a9e2-5ecca06c4181",
       "rows": [
        [
         "0",
         "39",
         "State-gov",
         "77516",
         "Bachelors",
         "13",
         "Never-married",
         "Adm-clerical",
         "Not-in-family",
         "White",
         "Male",
         "2174",
         "0",
         "40",
         "United-States",
         "<=50K"
        ],
        [
         "1",
         "50",
         "Self-emp-not-inc",
         "83311",
         "Bachelors",
         "13",
         "Married-civ-spouse",
         "Exec-managerial",
         "Husband",
         "White",
         "Male",
         "0",
         "0",
         "13",
         "United-States",
         "<=50K"
        ],
        [
         "2",
         "38",
         "Private",
         "215646",
         "HS-grad",
         "9",
         "Divorced",
         "Handlers-cleaners",
         "Not-in-family",
         "White",
         "Male",
         "0",
         "0",
         "40",
         "United-States",
         "<=50K"
        ],
        [
         "3",
         "53",
         "Private",
         "234721",
         "11th",
         "7",
         "Married-civ-spouse",
         "Handlers-cleaners",
         "Husband",
         "Black",
         "Male",
         "0",
         "0",
         "40",
         "United-States",
         "<=50K"
        ],
        [
         "4",
         "28",
         "Private",
         "338409",
         "Bachelors",
         "13",
         "Married-civ-spouse",
         "Prof-specialty",
         "Wife",
         "Black",
         "Female",
         "0",
         "0",
         "40",
         "Cuba",
         "<=50K"
        ]
       ],
       "shape": {
        "columns": 15,
        "rows": 5
       }
      },
      "text/html": [
       "<div>\n",
       "<style scoped>\n",
       "    .dataframe tbody tr th:only-of-type {\n",
       "        vertical-align: middle;\n",
       "    }\n",
       "\n",
       "    .dataframe tbody tr th {\n",
       "        vertical-align: top;\n",
       "    }\n",
       "\n",
       "    .dataframe thead th {\n",
       "        text-align: right;\n",
       "    }\n",
       "</style>\n",
       "<table border=\"1\" class=\"dataframe\">\n",
       "  <thead>\n",
       "    <tr style=\"text-align: right;\">\n",
       "      <th></th>\n",
       "      <th>age</th>\n",
       "      <th>workclass</th>\n",
       "      <th>fnlwgt</th>\n",
       "      <th>education</th>\n",
       "      <th>education-num</th>\n",
       "      <th>marital-status</th>\n",
       "      <th>occupation</th>\n",
       "      <th>relationship</th>\n",
       "      <th>race</th>\n",
       "      <th>sex</th>\n",
       "      <th>capital-gain</th>\n",
       "      <th>capital-loss</th>\n",
       "      <th>hours-per-week</th>\n",
       "      <th>native-country</th>\n",
       "      <th>salary</th>\n",
       "    </tr>\n",
       "  </thead>\n",
       "  <tbody>\n",
       "    <tr>\n",
       "      <th>0</th>\n",
       "      <td>39</td>\n",
       "      <td>State-gov</td>\n",
       "      <td>77516</td>\n",
       "      <td>Bachelors</td>\n",
       "      <td>13</td>\n",
       "      <td>Never-married</td>\n",
       "      <td>Adm-clerical</td>\n",
       "      <td>Not-in-family</td>\n",
       "      <td>White</td>\n",
       "      <td>Male</td>\n",
       "      <td>2174</td>\n",
       "      <td>0</td>\n",
       "      <td>40</td>\n",
       "      <td>United-States</td>\n",
       "      <td>&lt;=50K</td>\n",
       "    </tr>\n",
       "    <tr>\n",
       "      <th>1</th>\n",
       "      <td>50</td>\n",
       "      <td>Self-emp-not-inc</td>\n",
       "      <td>83311</td>\n",
       "      <td>Bachelors</td>\n",
       "      <td>13</td>\n",
       "      <td>Married-civ-spouse</td>\n",
       "      <td>Exec-managerial</td>\n",
       "      <td>Husband</td>\n",
       "      <td>White</td>\n",
       "      <td>Male</td>\n",
       "      <td>0</td>\n",
       "      <td>0</td>\n",
       "      <td>13</td>\n",
       "      <td>United-States</td>\n",
       "      <td>&lt;=50K</td>\n",
       "    </tr>\n",
       "    <tr>\n",
       "      <th>2</th>\n",
       "      <td>38</td>\n",
       "      <td>Private</td>\n",
       "      <td>215646</td>\n",
       "      <td>HS-grad</td>\n",
       "      <td>9</td>\n",
       "      <td>Divorced</td>\n",
       "      <td>Handlers-cleaners</td>\n",
       "      <td>Not-in-family</td>\n",
       "      <td>White</td>\n",
       "      <td>Male</td>\n",
       "      <td>0</td>\n",
       "      <td>0</td>\n",
       "      <td>40</td>\n",
       "      <td>United-States</td>\n",
       "      <td>&lt;=50K</td>\n",
       "    </tr>\n",
       "    <tr>\n",
       "      <th>3</th>\n",
       "      <td>53</td>\n",
       "      <td>Private</td>\n",
       "      <td>234721</td>\n",
       "      <td>11th</td>\n",
       "      <td>7</td>\n",
       "      <td>Married-civ-spouse</td>\n",
       "      <td>Handlers-cleaners</td>\n",
       "      <td>Husband</td>\n",
       "      <td>Black</td>\n",
       "      <td>Male</td>\n",
       "      <td>0</td>\n",
       "      <td>0</td>\n",
       "      <td>40</td>\n",
       "      <td>United-States</td>\n",
       "      <td>&lt;=50K</td>\n",
       "    </tr>\n",
       "    <tr>\n",
       "      <th>4</th>\n",
       "      <td>28</td>\n",
       "      <td>Private</td>\n",
       "      <td>338409</td>\n",
       "      <td>Bachelors</td>\n",
       "      <td>13</td>\n",
       "      <td>Married-civ-spouse</td>\n",
       "      <td>Prof-specialty</td>\n",
       "      <td>Wife</td>\n",
       "      <td>Black</td>\n",
       "      <td>Female</td>\n",
       "      <td>0</td>\n",
       "      <td>0</td>\n",
       "      <td>40</td>\n",
       "      <td>Cuba</td>\n",
       "      <td>&lt;=50K</td>\n",
       "    </tr>\n",
       "  </tbody>\n",
       "</table>\n",
       "</div>"
      ],
      "text/plain": [
       "   age         workclass  fnlwgt  education  education-num  \\\n",
       "0   39         State-gov   77516  Bachelors             13   \n",
       "1   50  Self-emp-not-inc   83311  Bachelors             13   \n",
       "2   38           Private  215646    HS-grad              9   \n",
       "3   53           Private  234721       11th              7   \n",
       "4   28           Private  338409  Bachelors             13   \n",
       "\n",
       "       marital-status         occupation   relationship   race     sex  \\\n",
       "0       Never-married       Adm-clerical  Not-in-family  White    Male   \n",
       "1  Married-civ-spouse    Exec-managerial        Husband  White    Male   \n",
       "2            Divorced  Handlers-cleaners  Not-in-family  White    Male   \n",
       "3  Married-civ-spouse  Handlers-cleaners        Husband  Black    Male   \n",
       "4  Married-civ-spouse     Prof-specialty           Wife  Black  Female   \n",
       "\n",
       "   capital-gain  capital-loss  hours-per-week native-country salary  \n",
       "0          2174             0              40  United-States  <=50K  \n",
       "1             0             0              13  United-States  <=50K  \n",
       "2             0             0              40  United-States  <=50K  \n",
       "3             0             0              40  United-States  <=50K  \n",
       "4             0             0              40           Cuba  <=50K  "
      ]
     },
     "execution_count": 76,
     "metadata": {},
     "output_type": "execute_result"
    }
   ],
   "source": [
    "import pandas as pd\n",
    "\n",
    "# Load the dataset\n",
    "df = pd.read_csv(\"adult.data.csv\")\n",
    "\n",
    "# Show the first 5 rows\n",
    "df.head()\n"
   ]
  },
  {
   "cell_type": "code",
   "execution_count": 77,
   "id": "424b5de2",
   "metadata": {},
   "outputs": [
    {
     "data": {
      "application/vnd.microsoft.datawrangler.viewer.v0+json": {
       "columns": [
        {
         "name": "race",
         "rawType": "object",
         "type": "string"
        },
        {
         "name": "count",
         "rawType": "int64",
         "type": "integer"
        }
       ],
       "ref": "c3782c4c-0049-4c23-bf54-460ad53f3f7e",
       "rows": [
        [
         "White",
         "27816"
        ],
        [
         "Black",
         "3124"
        ],
        [
         "Asian-Pac-Islander",
         "1039"
        ],
        [
         "Amer-Indian-Eskimo",
         "311"
        ],
        [
         "Other",
         "271"
        ]
       ],
       "shape": {
        "columns": 1,
        "rows": 5
       }
      },
      "text/plain": [
       "race\n",
       "White                 27816\n",
       "Black                  3124\n",
       "Asian-Pac-Islander     1039\n",
       "Amer-Indian-Eskimo      311\n",
       "Other                   271\n",
       "Name: count, dtype: int64"
      ]
     },
     "execution_count": 77,
     "metadata": {},
     "output_type": "execute_result"
    }
   ],
   "source": [
    "race_count = df['race'].value_counts()\n",
    "race_count\n"
   ]
  },
  {
   "cell_type": "code",
   "execution_count": 78,
   "id": "32961847",
   "metadata": {},
   "outputs": [
    {
     "data": {
      "text/plain": [
       "39.4"
      ]
     },
     "execution_count": 78,
     "metadata": {},
     "output_type": "execute_result"
    }
   ],
   "source": [
    "average_age_men = round(df[df['sex'] == 'Male']['age'].mean(), 1)\n",
    "average_age_men\n"
   ]
  },
  {
   "cell_type": "code",
   "execution_count": 79,
   "id": "01e48410",
   "metadata": {},
   "outputs": [
    {
     "data": {
      "text/plain": [
       "16.4"
      ]
     },
     "execution_count": 79,
     "metadata": {},
     "output_type": "execute_result"
    }
   ],
   "source": [
    "percentage_bachelors = round((len(df[df['education'] == 'Bachelors']) / len(df)) * 100, 1)\n",
    "percentage_bachelors\n"
   ]
  },
  {
   "cell_type": "code",
   "execution_count": 80,
   "id": "0613d137",
   "metadata": {},
   "outputs": [],
   "source": [
    "higher_education = df[df['education'].isin(['Bachelors', 'Masters', 'Doctorate'])]\n",
    "lower_education = df[~df['education'].isin(['Bachelors', 'Masters', 'Doctorate'])]\n"
   ]
  },
  {
   "cell_type": "code",
   "execution_count": 81,
   "id": "f54823b6",
   "metadata": {},
   "outputs": [
    {
     "data": {
      "text/plain": [
       "(46.5, 17.4)"
      ]
     },
     "execution_count": 81,
     "metadata": {},
     "output_type": "execute_result"
    }
   ],
   "source": [
    "higher_education_rich = round(\n",
    "    (len(higher_education[higher_education['salary'] == '>50K']) / len(higher_education)) * 100, 1)\n",
    "\n",
    "lower_education_rich = round(\n",
    "    (len(lower_education[lower_education['salary'] == '>50K']) / len(lower_education)) * 100, 1)\n",
    "\n",
    "higher_education_rich, lower_education_rich\n"
   ]
  },
  {
   "cell_type": "code",
   "execution_count": 82,
   "id": "95c35f93",
   "metadata": {},
   "outputs": [
    {
     "data": {
      "text/plain": [
       "1"
      ]
     },
     "execution_count": 82,
     "metadata": {},
     "output_type": "execute_result"
    }
   ],
   "source": [
    "min_work_hours = df['hours-per-week'].min()\n",
    "min_work_hours\n"
   ]
  },
  {
   "cell_type": "code",
   "execution_count": 83,
   "id": "4fba79be",
   "metadata": {},
   "outputs": [
    {
     "data": {
      "text/plain": [
       "10.0"
      ]
     },
     "execution_count": 83,
     "metadata": {},
     "output_type": "execute_result"
    }
   ],
   "source": [
    "min_workers = df[df['hours-per-week'] == min_work_hours]\n",
    "rich_min_workers = min_workers[min_workers['salary'] == '>50K']\n",
    "\n",
    "rich_percentage = round((len(rich_min_workers) / len(min_workers)) * 100, 1)\n",
    "rich_percentage\n"
   ]
  },
  {
   "cell_type": "code",
   "execution_count": 57,
   "id": "6b2cf6db",
   "metadata": {},
   "outputs": [
    {
     "name": "stdout",
     "output_type": "stream",
     "text": [
      "2\n",
      "10.0\n"
     ]
    }
   ],
   "source": [
    "num_min_workers = len(df[(df['hours-per-week'] == min_work_hours) & (df['salary'] == '>50K')])\n",
    "\n",
    "print(num_min_workers)\n",
    "\n",
    "rich_percentage = round(num_min_workers/len(df[df['hours-per-week'] == min_work_hours]) * 100, 1)\n",
    "print(rich_percentage)\n",
    "\n"
   ]
  },
  {
   "cell_type": "code",
   "execution_count": 84,
   "id": "6bf5745b",
   "metadata": {},
   "outputs": [
    {
     "data": {
      "text/plain": [
       "('Iran', 41.9)"
      ]
     },
     "execution_count": 84,
     "metadata": {},
     "output_type": "execute_result"
    }
   ],
   "source": [
    "country_rich = df[df['salary'] == '>50K']['native-country'].value_counts()\n",
    "country_total = df['native-country'].value_counts()\n",
    "\n",
    "rich_percentage_by_country = (country_rich / country_total * 100).round(1)\n",
    "\n",
    "highest_earning_country = rich_percentage_by_country.idxmax()\n",
    "highest_earning_country_percentage = rich_percentage_by_country.max()\n",
    "\n",
    "highest_earning_country, highest_earning_country_percentage\n"
   ]
  },
  {
   "cell_type": "code",
   "execution_count": 85,
   "id": "5e03bf36",
   "metadata": {},
   "outputs": [
    {
     "data": {
      "text/plain": [
       "'Prof-specialty'"
      ]
     },
     "execution_count": 85,
     "metadata": {},
     "output_type": "execute_result"
    }
   ],
   "source": [
    "india_rich = df[(df['native-country'] == 'India') & (df['salary'] == '>50K')]\n",
    "top_IN_occupation = india_rich['occupation'].value_counts().idxmax()\n",
    "top_IN_occupation\n"
   ]
  },
  {
   "cell_type": "code",
   "execution_count": 86,
   "id": "42f5acd0",
   "metadata": {},
   "outputs": [
    {
     "data": {
      "text/plain": [
       "{'Race Count': race\n",
       " White                 27816\n",
       " Black                  3124\n",
       " Asian-Pac-Islander     1039\n",
       " Amer-Indian-Eskimo      311\n",
       " Other                   271\n",
       " Name: count, dtype: int64,\n",
       " 'Average Age of Men': 39.4,\n",
       " 'Percentage with Bachelors': 16.4,\n",
       " 'Higher Education Rich %': 46.5,\n",
       " 'Lower Education Rich %': 17.4,\n",
       " 'Min Work Hours': 1,\n",
       " 'Rich % (Min Hours)': 10.0,\n",
       " 'Highest Earning Country': 'Iran',\n",
       " 'Highest Country Rich %': 41.9,\n",
       " 'Top Occupation in India': 'Prof-specialty'}"
      ]
     },
     "execution_count": 86,
     "metadata": {},
     "output_type": "execute_result"
    }
   ],
   "source": [
    "summary = {\n",
    "    'Race Count': race_count,\n",
    "    'Average Age of Men': average_age_men,\n",
    "    'Percentage with Bachelors': percentage_bachelors,\n",
    "    'Higher Education Rich %': higher_education_rich,\n",
    "    'Lower Education Rich %': lower_education_rich,\n",
    "    'Min Work Hours': min_work_hours,\n",
    "    'Rich % (Min Hours)': rich_percentage,\n",
    "    'Highest Earning Country': highest_earning_country,\n",
    "    'Highest Country Rich %': highest_earning_country_percentage,\n",
    "    'Top Occupation in India': top_IN_occupation\n",
    "}\n",
    "\n",
    "summary\n"
   ]
  }
 ],
 "metadata": {
  "kernelspec": {
   "display_name": "base",
   "language": "python",
   "name": "python3"
  },
  "language_info": {
   "codemirror_mode": {
    "name": "ipython",
    "version": 3
   },
   "file_extension": ".py",
   "mimetype": "text/x-python",
   "name": "python",
   "nbconvert_exporter": "python",
   "pygments_lexer": "ipython3",
   "version": "3.12.7"
  }
 },
 "nbformat": 4,
 "nbformat_minor": 5
}
