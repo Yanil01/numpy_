{
 "cells": [
  {
   "cell_type": "code",
   "execution_count": 1,
   "id": "56d86c78-1474-432d-9f52-7e1f87ec691d",
   "metadata": {},
   "outputs": [
    {
     "name": "stdout",
     "output_type": "stream",
     "text": [
      "2.72 µs ± 272 ns per loop (mean ± std. dev. of 7 runs, 100,000 loops each)\n"
     ]
    }
   ],
   "source": [
    "import numpy as np\n",
    "%timeit np.arange(1,9)**4"
   ]
  },
  {
   "cell_type": "code",
   "execution_count": 2,
   "id": "2cc0b02e-4ab4-437e-92a9-2f3068d8c9ac",
   "metadata": {},
   "outputs": [
    {
     "name": "stdout",
     "output_type": "stream",
     "text": [
      "864 ns ± 117 ns per loop (mean ± std. dev. of 7 runs, 100,000 loops each)\n"
     ]
    }
   ],
   "source": [
    "%timeit [j**4 for j in range (1,9)]"
   ]
  },
  {
   "cell_type": "code",
   "execution_count": 4,
   "id": "b099e6ba-e55d-4cc1-ba12-0a3da36fd14c",
   "metadata": {},
   "outputs": [
    {
     "name": "stdout",
     "output_type": "stream",
     "text": [
      "[1 2 3 4 5]\n",
      "<class 'numpy.ndarray'>\n"
     ]
    }
   ],
   "source": [
    "li = [1,2,3,4,5]\n",
    "arr1 = np.array(li)\n",
    "print(arr1)\n",
    "print(type(arr1))"
   ]
  },
  {
   "cell_type": "code",
   "execution_count": 5,
   "id": "ab72d8fd-ba4b-44c1-a990-b8f10b121e61",
   "metadata": {},
   "outputs": [
    {
     "name": "stdout",
     "output_type": "stream",
     "text": [
      "[[1 2 3 4]\n",
      " [2 3 4 5]]\n"
     ]
    }
   ],
   "source": [
    "arr2 = np.array([[1,2,3,4],[2,3,4,5]])\n",
    "print(arr2)"
   ]
  },
  {
   "cell_type": "code",
   "execution_count": 6,
   "id": "e630ea10-9f0a-4dc0-bbd0-3fae057a81ff",
   "metadata": {},
   "outputs": [
    {
     "name": "stdout",
     "output_type": "stream",
     "text": [
      "2\n"
     ]
    }
   ],
   "source": [
    "print(arr2.ndim)"
   ]
  },
  {
   "cell_type": "code",
   "execution_count": 7,
   "id": "abd2ec04-525c-4dfc-8e25-476bf158ebf5",
   "metadata": {},
   "outputs": [],
   "source": [
    "arr3 = np.array([[[1,2,3,4],[1,2,3,4],[1,2,3,4]]])"
   ]
  },
  {
   "cell_type": "code",
   "execution_count": 8,
   "id": "0a44180e-8345-4210-a0ec-64a46d167aea",
   "metadata": {},
   "outputs": [
    {
     "name": "stdout",
     "output_type": "stream",
     "text": [
      "[[[1 2 3 4]\n",
      "  [1 2 3 4]\n",
      "  [1 2 3 4]]]\n"
     ]
    }
   ],
   "source": [
    "print(arr3)"
   ]
  },
  {
   "cell_type": "code",
   "execution_count": 9,
   "id": "59f3e596-63f8-41c9-a243-a4ebd3a068ce",
   "metadata": {},
   "outputs": [
    {
     "name": "stdout",
     "output_type": "stream",
     "text": [
      "3\n"
     ]
    }
   ],
   "source": [
    "print(arr3.ndim)"
   ]
  },
  {
   "cell_type": "code",
   "execution_count": 10,
   "id": "45544c36-ae1e-468a-b750-aae9adc91294",
   "metadata": {},
   "outputs": [],
   "source": [
    "arrn = np.array([1,2,3,4],ndmin=5)"
   ]
  },
  {
   "cell_type": "code",
   "execution_count": 11,
   "id": "30dc89f4-3f07-4c9d-9947-e5c2083cd45f",
   "metadata": {},
   "outputs": [
    {
     "name": "stdout",
     "output_type": "stream",
     "text": [
      "[[[[[1 2 3 4]]]]]\n",
      "5\n"
     ]
    }
   ],
   "source": [
    "print(arrn)\n",
    "print(arrn.ndim)"
   ]
  },
  {
   "cell_type": "code",
   "execution_count": 13,
   "id": "2aab8fb8-e15f-4938-b57d-736635c87334",
   "metadata": {},
   "outputs": [
    {
     "name": "stdout",
     "output_type": "stream",
     "text": [
      "[[0. 0. 0.]\n",
      " [0. 0. 0.]\n",
      " [0. 0. 0.]]\n"
     ]
    }
   ],
   "source": [
    "a1_zeroes = np.zeros((3,3))\n",
    "print(a1_zeroes)"
   ]
  },
  {
   "cell_type": "code",
   "execution_count": 15,
   "id": "a344d9af",
   "metadata": {},
   "outputs": [
    {
     "name": "stdout",
     "output_type": "stream",
     "text": [
      "[[1. 1. 1.]\n",
      " [1. 1. 1.]\n",
      " [1. 1. 1.]]\n"
     ]
    }
   ],
   "source": [
    "a1_ones = np.ones((3,3))\n",
    "print(a1_ones)"
   ]
  },
  {
   "cell_type": "code",
   "execution_count": 17,
   "id": "0c6b10d7",
   "metadata": {},
   "outputs": [
    {
     "name": "stdout",
     "output_type": "stream",
     "text": [
      "[0 2 4 6 8]\n"
     ]
    }
   ],
   "source": [
    "a1_range = np.arange(0,10,2)\n",
    "print(a1_range)"
   ]
  },
  {
   "cell_type": "code",
   "execution_count": null,
   "id": "c15be01a",
   "metadata": {},
   "outputs": [],
   "source": []
  }
 ],
 "metadata": {
  "kernelspec": {
   "display_name": "Python 3",
   "language": "python",
   "name": "python3"
  },
  "language_info": {
   "codemirror_mode": {
    "name": "ipython",
    "version": 3
   },
   "file_extension": ".py",
   "mimetype": "text/x-python",
   "name": "python",
   "nbconvert_exporter": "python",
   "pygments_lexer": "ipython3",
   "version": "3.12.2"
  }
 },
 "nbformat": 4,
 "nbformat_minor": 5
}
