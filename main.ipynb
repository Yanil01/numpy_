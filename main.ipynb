{
 "cells": [
  {
   "cell_type": "code",
   "execution_count": 4,
   "id": "56d86c78-1474-432d-9f52-7e1f87ec691d",
   "metadata": {},
   "outputs": [
    {
     "name": "stdout",
     "output_type": "stream",
     "text": [
      "2.52 µs ± 185 ns per loop (mean ± std. dev. of 7 runs, 100,000 loops each)\n"
     ]
    }
   ],
   "source": [
    "import numpy as np\n",
    "%timeit np.arange(1,9)**4"
   ]
  },
  {
   "cell_type": "code",
   "execution_count": 5,
   "id": "2cc0b02e-4ab4-437e-92a9-2f3068d8c9ac",
   "metadata": {},
   "outputs": [
    {
     "name": "stdout",
     "output_type": "stream",
     "text": [
      "1.37 µs ± 431 ns per loop (mean ± std. dev. of 7 runs, 100,000 loops each)\n"
     ]
    }
   ],
   "source": [
    "%timeit [j**4 for j in range (1,9)]"
   ]
  },
  {
   "cell_type": "code",
   "execution_count": 6,
   "id": "b099e6ba-e55d-4cc1-ba12-0a3da36fd14c",
   "metadata": {},
   "outputs": [
    {
     "name": "stdout",
     "output_type": "stream",
     "text": [
      "[1 2 3 4 5]\n",
      "<class 'numpy.ndarray'>\n"
     ]
    }
   ],
   "source": [
    "li = [1,2,3,4,5]\n",
    "arr = np.array(li)\n",
    "print(arr)\n",
    "print(type(arr))"
   ]
  },
  {
   "cell_type": "code",
   "execution_count": 7,
   "id": "ab72d8fd-ba4b-44c1-a990-b8f10b121e61",
   "metadata": {},
   "outputs": [
    {
     "name": "stdout",
     "output_type": "stream",
     "text": [
      "[[1 2 3 4]\n",
      " [2 3 4 5]]\n"
     ]
    }
   ],
   "source": [
    "arr2 = np.array([[1,2,3,4],[2,3,4,5]])\n",
    "print(arr2)"
   ]
  },
  {
   "cell_type": "code",
   "execution_count": 8,
   "id": "e630ea10-9f0a-4dc0-bbd0-3fae057a81ff",
   "metadata": {},
   "outputs": [
    {
     "name": "stdout",
     "output_type": "stream",
     "text": [
      "2\n"
     ]
    }
   ],
   "source": [
    "print(arr2.ndim)"
   ]
  },
  {
   "cell_type": "code",
   "execution_count": 9,
   "id": "abd2ec04-525c-4dfc-8e25-476bf158ebf5",
   "metadata": {},
   "outputs": [],
   "source": [
    "arr3 = np.array([[[1,2,3,4],[1,2,3,4],[1,2,3,4]]])"
   ]
  },
  {
   "cell_type": "code",
   "execution_count": 10,
   "id": "0a44180e-8345-4210-a0ec-64a46d167aea",
   "metadata": {},
   "outputs": [
    {
     "name": "stdout",
     "output_type": "stream",
     "text": [
      "[[[1 2 3 4]\n",
      "  [1 2 3 4]\n",
      "  [1 2 3 4]]]\n"
     ]
    }
   ],
   "source": [
    "print(arr3)"
   ]
  },
  {
   "cell_type": "code",
   "execution_count": 11,
   "id": "59f3e596-63f8-41c9-a243-a4ebd3a068ce",
   "metadata": {},
   "outputs": [
    {
     "name": "stdout",
     "output_type": "stream",
     "text": [
      "3\n"
     ]
    }
   ],
   "source": [
    "print(arr3.ndim)"
   ]
  },
  {
   "cell_type": "code",
   "execution_count": 12,
   "id": "45544c36-ae1e-468a-b750-aae9adc91294",
   "metadata": {},
   "outputs": [],
   "source": [
    "arrn = np.array(\n",
    "    \n",
    "    \n",
    "    \n",
    "    \n",
    "    \n",
    "    \n",
    "    [1,2,3,4],ndmin=5)"
   ]
  },
  {
   "cell_type": "code",
   "execution_count": 13,
   "id": "30dc89f4-3f07-4c9d-9947-e5c2083cd45f",
   "metadata": {},
   "outputs": [
    {
     "name": "stdout",
     "output_type": "stream",
     "text": [
      "[[[[[1 2 3 4]]]]]\n",
      "5\n"
     ]
    }
   ],
   "source": [
    "print(arrn)\n",
    "print(arrn.ndim)"
   ]
  },
  {
   "cell_type": "code",
   "execution_count": 14,
   "id": "2aab8fb8-e15f-4938-b57d-736635c87334",
   "metadata": {},
   "outputs": [
    {
     "name": "stdout",
     "output_type": "stream",
     "text": [
      "[[0. 0. 0.]\n",
      " [0. 0. 0.]\n",
      " [0. 0. 0.]]\n"
     ]
    }
   ],
   "source": [
    "a1_zeroes = np.zeros((3,3))\n",
    "print(a1_zeroes)"
   ]
  },
  {
   "cell_type": "code",
   "execution_count": 15,
   "id": "a344d9af",
   "metadata": {},
   "outputs": [
    {
     "name": "stdout",
     "output_type": "stream",
     "text": [
      "[[1. 1. 1.]\n",
      " [1. 1. 1.]\n",
      " [1. 1. 1.]]\n"
     ]
    }
   ],
   "source": [
    "a1_ones = np.ones((3,3))\n",
    "print(a1_ones)"
   ]
  },
  {
   "cell_type": "code",
   "execution_count": 16,
   "id": "0c6b10d7",
   "metadata": {},
   "outputs": [
    {
     "name": "stdout",
     "output_type": "stream",
     "text": [
      "[0 2 4 6 8]\n"
     ]
    }
   ],
   "source": [
    "a1_range = np.arange(0,10,2)\n",
    "print(a1_range)"
   ]
  },
  {
   "cell_type": "code",
   "execution_count": 17,
   "id": "c15be01a",
   "metadata": {},
   "outputs": [
    {
     "name": "stdout",
     "output_type": "stream",
     "text": [
      "Single element : 10\n",
      "Negative indexing : 50\n"
     ]
    }
   ],
   "source": [
    "arr1D = np.array([10,20,30,40,50])\n",
    "print(f\"Single element : {arr1D[0]}\")\n",
    "print(f\"Negative indexing : {arr1D[-1]}\")"
   ]
  },
  {
   "cell_type": "code",
   "execution_count": 18,
   "id": "0bfaf202",
   "metadata": {},
   "outputs": [
    {
     "name": "stdout",
     "output_type": "stream",
     "text": [
      "Multidimensional access : 4\n"
     ]
    }
   ],
   "source": [
    "arr2D = np.array([[2,3,4,5],[5,6,7,8],[3,5,7,9]])\n",
    "print(f\"Multidimensional access : {arr2D[0,2]}\")"
   ]
  },
  {
   "cell_type": "code",
   "execution_count": 19,
   "id": "d5227984",
   "metadata": {},
   "outputs": [
    {
     "name": "stdout",
     "output_type": "stream",
     "text": [
      "Range of Elements : [[5 6 7 8]]\n"
     ]
    }
   ],
   "source": [
    "arr = np.array([[1,2,3,4],[5,6,7,8]])\n",
    "print(f\"Range of Elements : {arr[1:4]}\")\n",
    "\n",
    "\n",
    "\n"
   ]
  },
  {
   "cell_type": "code",
   "execution_count": 20,
   "id": "8d0ce83d",
   "metadata": {},
   "outputs": [
    {
     "name": "stdout",
     "output_type": "stream",
     "text": [
      "Multidimensional Slicing : [4 8]\n"
     ]
    }
   ],
   "source": [
    "print(f\"Multidimensional Slicing : {arr[:,3]}\")"
   ]
  },
  {
   "cell_type": "code",
   "execution_count": 21,
   "id": "e1bfc7ad",
   "metadata": {},
   "outputs": [],
   "source": [
    "arr = np.array([10,20,30,40,50,60,70,80,90,100])\n"
   ]
  },
  {
   "cell_type": "code",
   "execution_count": 22,
   "id": "76def444",
   "metadata": {},
   "outputs": [],
   "source": [
    "indices = np.array([1,3,5])"
   ]
  },
  {
   "cell_type": "code",
   "execution_count": 23,
   "id": "25e430ed",
   "metadata": {},
   "outputs": [
    {
     "name": "stdout",
     "output_type": "stream",
     "text": [
      "Integer array indexing : [20 40 60]\n"
     ]
    }
   ],
   "source": [
    "print(f\"Integer array indexing : {arr[indices]}\")"
   ]
  },
  {
   "cell_type": "code",
   "execution_count": 24,
   "id": "421dd7e1",
   "metadata": {},
   "outputs": [
    {
     "name": "stdout",
     "output_type": "stream",
     "text": [
      "Element greater than 30 : [ 40  50  60  70  80  90 100]\n"
     ]
    }
   ],
   "source": [
    "cond = arr > 30\n",
    "print(f\"Element greater than 30 : {arr[cond]}\")\n"
   ]
  },
  {
   "cell_type": "code",
   "execution_count": 25,
   "id": "76e7e373",
   "metadata": {},
   "outputs": [
    {
     "name": "stdout",
     "output_type": "stream",
     "text": [
      "Addition : [ 3  6  9 12]\n",
      "Subtraction : [1 2 3 4]\n",
      "Multiplication : [ 2  8 18 32]\n",
      "Division : [2. 2. 2. 2.]\n"
     ]
    }
   ],
   "source": [
    "x = np.array([1,2,3,4])\n",
    "y = np.array([2,4,6,8])\n",
    "print(f\"Addition : {x + y}\")\n",
    "print(f\"Subtraction : {y - x}\")\n",
    "print(f\"Multiplication : {x * y}\")\n",
    "print(f\"Division : {y / x}\")\n"
   ]
  },
  {
   "cell_type": "code",
   "execution_count": 26,
   "id": "7346393b",
   "metadata": {},
   "outputs": [
    {
     "name": "stdout",
     "output_type": "stream",
     "text": [
      "[1 2 3 3 7 9]\n"
     ]
    }
   ],
   "source": [
    "arr = np.array([1,2,3,-3,-7,-9])\n",
    "result = np.absolute(arr)\n",
    "print(result)"
   ]
  },
  {
   "cell_type": "code",
   "execution_count": 27,
   "id": "cd4499b5",
   "metadata": {},
   "outputs": [
    {
     "name": "stdout",
     "output_type": "stream",
     "text": [
      "[5 7 9]\n"
     ]
    }
   ],
   "source": [
    "arr1 = np.array([1,2,3])\n",
    "arr2 = np.array([4,5,6])\n",
    "result = np.add(arr1, arr2)\n",
    "print(result)"
   ]
  },
  {
   "cell_type": "code",
   "execution_count": 28,
   "id": "14a66ab8",
   "metadata": {},
   "outputs": [
    {
     "name": "stdout",
     "output_type": "stream",
     "text": [
      "Sine values of array elements : [0.         0.5        0.70710678 0.8660254  1.        ]\n"
     ]
    }
   ],
   "source": [
    "a = np.array([0,np.pi/6,np.pi/4, np.pi/3, np.pi/2])\n",
    "print(f\"Sine values of array elements : {np.sin(a)}\")"
   ]
  },
  {
   "cell_type": "code",
   "execution_count": 29,
   "id": "ce9ce238",
   "metadata": {},
   "outputs": [
    {
     "name": "stdout",
     "output_type": "stream",
     "text": [
      "Exponent of array elements : [ 20.08553692  54.59815003 148.4131591 ]\n",
      "Square root of array elements : [1.73205081 2.         2.23606798]\n"
     ]
    }
   ],
   "source": [
    "b = np.array([3,4,5])\n",
    "print(f\"Exponent of array elements : {np.exp(b)}\")\n",
    "print(f\"Square root of array elements : {np.sqrt(b)}\")"
   ]
  },
  {
   "cell_type": "code",
   "execution_count": 30,
   "id": "95690b41",
   "metadata": {},
   "outputs": [
    {
     "name": "stdout",
     "output_type": "stream",
     "text": [
      "Array sorted by names: [(b'Alex', 2008, 2.67) (b'Bob', 2007, 2.64) (b'Jack', 2009, 2.96)\n",
      " (b'Tom', 2004, 2.56)]\n",
      "Array sorted by year: [(b'Tom', 2004, 2.56) (b'Bob', 2007, 2.64) (b'Alex', 2008, 2.67)\n",
      " (b'Jack', 2009, 2.96)]\n",
      "Array sorted by year & CGPA: [(b'Tom', 2004, 2.56) (b'Bob', 2007, 2.64) (b'Alex', 2008, 2.67)\n",
      " (b'Jack', 2009, 2.96)]\n"
     ]
    }
   ],
   "source": [
    "import numpy as np \n",
    "# set alias names for dtypes\n",
    "dtypes = [('name','S10'),('grad_year',int),('cgpa',float)]\n",
    "\n",
    "# values to be put in array\n",
    "values = [('Jack',2009,2.96),('Tom',2004,2.56),('Bob',2007,2.64),('Alex',2008,2.67)]\n",
    "\n",
    "# creating array\n",
    "arr = np.array(values, dtype=dtypes)\n",
    "print(\"Array sorted by names:\", np.sort(arr, order='name'))\n",
    "\n",
    "print(\"Array sorted by year:\",np.sort(arr,order='grad_year'))\n",
    "\n",
    "print(\"Array sorted by year & CGPA:\",np.sort(arr,order=['grad_year','cgpa']))"
   ]
  },
  {
   "cell_type": "code",
   "execution_count": 39,
   "id": "814a051f",
   "metadata": {},
   "outputs": [
    {
     "name": "stdout",
     "output_type": "stream",
     "text": [
      "Array with first two rows and alternative columns '0' & '3' is [[1 4]\n",
      " [5 8]]\n",
      "Elements at (1,0), (1,2), (0,4), (2,2), (2,1) is \n",
      " [[[ 5  6  7  8  9]\n",
      "  [ 5  6  7  8  9]\n",
      "  [ 1  2  3  4  5]\n",
      "  [12 13 14 15 16]]\n",
      "\n",
      " [[12 13 14 15 16]\n",
      "  [12 13 14 15 16]\n",
      "  [ 1  2  3  4  5]\n",
      "  [ 5  6  7  8  9]]]\n"
     ]
    }
   ],
   "source": [
    "arr = np.array([[1,2,3,4,5],[5,6,7,8,9],[12,13,14,15,16]])\n",
    "print(f\"Array with first two rows and alternative columns '0' & '3' is {arr[:2,::3]}\")\n",
    "\n",
    "indices = np.array([[1,1,0,2],[2,2,0,1]])\n",
    "print(f\"Elements at (1,0), (1,2), (0,4), (2,2), (2,1) is \\n {arr[indices]}\")"
   ]
  },
  {
   "cell_type": "code",
   "execution_count": 41,
   "id": "99e4c781",
   "metadata": {},
   "outputs": [
    {
     "name": "stdout",
     "output_type": "stream",
     "text": [
      "3\n"
     ]
    }
   ],
   "source": [
    "new_arr = arr[indices]\n",
    "print(new_arr.ndim)"
   ]
  },
  {
   "cell_type": "code",
   "execution_count": 47,
   "id": "db8b020d",
   "metadata": {},
   "outputs": [
    {
     "name": "stdout",
     "output_type": "stream",
     "text": [
      "Vertical stacking:\n",
      " [[1 2]\n",
      " [4 5]\n",
      " [3 5]\n",
      " [7 8]]\n",
      "Horizontal stacking:\n",
      " [[1 2 3 5]\n",
      " [4 5 7 8]]\n",
      "\n",
      "Column stacking:\n",
      " [[1 2 5]\n",
      " [4 5 6]]\n",
      "\n",
      "Concatenating to 2nd axis:\n",
      " [[1 2 3 5]\n",
      " [4 5 7 8]]\n"
     ]
    }
   ],
   "source": [
    "# stacking \n",
    "a = np.array([[1,2],[4,5]])\n",
    "b = np.array([[3,5],[7,8]])\n",
    "print(\"Vertical stacking:\\n\", np.vstack((a, b))) \n",
    "print(\"Horizontal stacking:\\n\", np.hstack((a, b)))\n",
    "c = [5,6]\n",
    "print(\"\\nColumn stacking:\\n\", np.column_stack((a, c))) \n",
    "\n",
    "print(\"\\nConcatenating to 2nd axis:\\n\", np.concatenate((a, b), 1)) \n",
    "\n"
   ]
  },
  {
   "cell_type": "code",
   "execution_count": 3,
   "id": "7c45c395",
   "metadata": {},
   "outputs": [
    {
     "name": "stdout",
     "output_type": "stream",
     "text": [
      "Splitting along horizontal axis into 2 parts:\n",
      " [array([[1, 2, 3],\n",
      "       [3, 5, 6]]), array([[4, 5, 3],\n",
      "       [7, 8, 1]])]\n",
      "Splitting along vertical axis into 2 parts:\n",
      " [array([[1, 2, 3, 4, 5, 3]]), array([[3, 5, 6, 7, 8, 1]])]\n"
     ]
    }
   ],
   "source": [
    "import numpy as np\n",
    "a = np.array([[1,2,3,4,5,3],[3,5,6,7,8,1]])\n",
    "\n",
    "# horizontal splitting \n",
    "print(\"Splitting along horizontal axis into 2 parts:\\n\", np.hsplit(a, 2)) \n",
    "\n",
    "# vertical splitting \n",
    "print(\"Splitting along vertical axis into 2 parts:\\n\", np.vsplit(a, 2)) \n",
    "\n"
   ]
  },
  {
   "cell_type": "code",
   "execution_count": 4,
   "id": "4df4d27d",
   "metadata": {},
   "outputs": [
    {
     "name": "stdout",
     "output_type": "stream",
     "text": [
      "[2. 4. 6.]\n",
      "[ 2.  6. 12.]\n"
     ]
    }
   ],
   "source": [
    "# broadcasting\n",
    "a = np.array([1.0, 2.0, 3.0])\n",
    "\n",
    "b = 2.0\n",
    "\n",
    "print(a * b)\n",
    "\n",
    "c = [2.0, 3.0, 4.0]\n",
    "\n",
    "print(a * c)"
   ]
  },
  {
   "cell_type": "code",
   "execution_count": 5,
   "id": "02a607cc",
   "metadata": {},
   "outputs": [
    {
     "name": "stdout",
     "output_type": "stream",
     "text": [
      "[[ 7  8  9 10  3]\n",
      " [ 8  9 10 11  4]\n",
      " [ 9 10 11 12  5]\n",
      " [10 11 12 13  6]\n",
      " [11 12 13 14  7]]\n"
     ]
    }
   ],
   "source": [
    "x  = np.array([1,2,3,4,5])\n",
    "y = np.array([6,7,8,9,2])\n",
    "\n",
    "print(x[:,np.newaxis]+y)"
   ]
  },
  {
   "cell_type": "code",
   "execution_count": null,
   "id": "b02752fb",
   "metadata": {},
   "outputs": [],
   "source": []
  }
 ],
 "metadata": {
  "kernelspec": {
   "display_name": "Python 3",
   "language": "python",
   "name": "python3"
  },
  "language_info": {
   "codemirror_mode": {
    "name": "ipython",
    "version": 3
   },
   "file_extension": ".py",
   "mimetype": "text/x-python",
   "name": "python",
   "nbconvert_exporter": "python",
   "pygments_lexer": "ipython3",
   "version": "3.12.2"
  }
 },
 "nbformat": 4,
 "nbformat_minor": 5
}
